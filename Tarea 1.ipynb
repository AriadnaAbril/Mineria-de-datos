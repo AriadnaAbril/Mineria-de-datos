{
 "cells": [
  {
   "cell_type": "markdown",
   "id": "b5ec6a35",
   "metadata": {},
   "source": [
    "<h1 style=\"color:blue;\"> <strong> <center>Minería de datos - Tarea 1</center></strong> </h1>\n",
    "<h4><center><strong>Ariadna Sofía Contreras Abril</strong></center></h4>\n",
    "<h4><center><strong>Universidad Nacional de Colombia</strong></center></h4>\n",
    "<h4><center><strong>Facultad de Ciencias</strong></center></h4>\n",
    "<h4><center><strong>Departamento de Estadística</strong></center></h4>"
   ]
  },
  {
   "cell_type": "markdown",
   "id": "2ae8de99",
   "metadata": {},
   "source": [
    "<h2> 1. Creación de ambiente con instalación de librerías </h2>"
   ]
  },
  {
   "cell_type": "markdown",
   "id": "44a723c3",
   "metadata": {},
   "source": [
    "Primero se confirman los ambientes creados anteriormente para posteriormente crear el ambiente <em>mineria_datos1</em> y activarlo"
   ]
  },
  {
   "cell_type": "markdown",
   "id": "5cb02432",
   "metadata": {},
   "source": [
    "<img src=creacion_ambiente1.jpeg>"
   ]
  },
  {
   "cell_type": "markdown",
   "id": "501f8744",
   "metadata": {},
   "source": [
    "<img src=creacion_ambiente2.jpeg>"
   ]
  },
  {
   "cell_type": "markdown",
   "id": "52b3d0b0",
   "metadata": {},
   "source": [
    "A continuación se van a instalar las librerías <em>jupyterlab</em> y <em>scikit-learn</em>:\n",
    "-  Librería <em>jupyterlab</em>"
   ]
  },
  {
   "cell_type": "markdown",
   "id": "f902981d",
   "metadata": {},
   "source": [
    "<img src=librería_jupyter.jpeg>"
   ]
  },
  {
   "cell_type": "markdown",
   "id": "dc7cf5d7",
   "metadata": {},
   "source": [
    "-  Librería <em>Scikit-learn</em>"
   ]
  },
  {
   "cell_type": "markdown",
   "id": "8b265ebe",
   "metadata": {},
   "source": [
    "<img src=librería_sklearn.jpeg>"
   ]
  },
  {
   "cell_type": "markdown",
   "id": "4283f7fe",
   "metadata": {},
   "source": [
    "<h2> 2. Títulos utilizando diferentes formatos</h2>"
   ]
  },
  {
   "cell_type": "markdown",
   "id": "f2d582c6",
   "metadata": {},
   "source": [
    "<h3> Título en formato HTML </h3>"
   ]
  },
  {
   "cell_type": "markdown",
   "id": "8d088ab7",
   "metadata": {},
   "source": [
    "### Título en formato Markdown"
   ]
  },
  {
   "cell_type": "markdown",
   "id": "755ea823",
   "metadata": {},
   "source": [
    "<h3> $Título\\ en\\ formato\\ \\LaTeX$ </h3>"
   ]
  },
  {
   "cell_type": "markdown",
   "id": "692cd002",
   "metadata": {},
   "source": [
    "<h2> 3. Enlaces para imágen y video</h2>"
   ]
  },
  {
   "cell_type": "markdown",
   "id": "2553de57",
   "metadata": {},
   "source": [
    "[Click acá para ver la imágen](https://latam.kaspersky.com/content/es-mx/images/repository/isc/2017-images/KSY-54-What_is_data_mining_.jpg)"
   ]
  },
  {
   "cell_type": "markdown",
   "id": "b044d963",
   "metadata": {},
   "source": [
    "[Click acá para ver el video](https://www.youtube.com/watch?v=6Vr9ZUntCyE)"
   ]
  }
 ],
 "metadata": {
  "kernelspec": {
   "display_name": "Python 3 (ipykernel)",
   "language": "python",
   "name": "python3"
  },
  "language_info": {
   "codemirror_mode": {
    "name": "ipython",
    "version": 3
   },
   "file_extension": ".py",
   "mimetype": "text/x-python",
   "name": "python",
   "nbconvert_exporter": "python",
   "pygments_lexer": "ipython3",
   "version": "3.8.13"
  }
 },
 "nbformat": 4,
 "nbformat_minor": 5
}
