{
 "cells": [
  {
   "cell_type": "markdown",
   "id": "8cd840e3-294f-4c41-a769-5ea65c04a20d",
   "metadata": {},
   "source": [
    "# Segunda tarea mineria de datos.\n",
    "### Andrés Stiven García López.\n",
    "### Ariadna Sofia Contreras Abril.\n",
    "### Joan Nicolas Castro Cortes.\n",
    "### Bryan Camilo Riveros Guarnizo.\n",
    "### Maria Angelica Agudelo."
   ]
  },
  {
   "cell_type": "markdown",
   "id": "2b51416a-4cfd-4ea8-80c3-316f0b6c33ba",
   "metadata": {},
   "source": [
    "## Segundo punto."
   ]
  },
  {
   "cell_type": "markdown",
   "id": "8c739913-4836-4615-9b9a-a00c999610e1",
   "metadata": {
    "tags": []
   },
   "source": [
    "### Primer ejercicio.\n",
    "Cree un diccionario con las apellidos de las jugadoras de la seleccion Colombiana Femenina de futbol que jugaron como titulares en el ultimo partido por copa América (Colombia Vs Brasil) e incluya el numero de cada una de ellas. Ademas realice:\n",
    "1. Contar el número de elementos dentro del diccionario.\n",
    "2. Modificar el nombre que se encuentra en el diccionario, agregando el nombre de cada una de las jugadoras.\n",
    "3. Imprima en pantalla una cadena que diga \"La goleadora del torneo fue Linda Caicedo\", utilice la llave necesaria para ingresar a la informacion del diccionario.\n",
    "4. Muestre todas las jugadoras menores a 20 años\n"
   ]
  },
  {
   "cell_type": "code",
   "execution_count": 6,
   "id": "b21ead22-0a2f-47d6-a92f-ebc564b3b226",
   "metadata": {},
   "outputs": [
    {
     "name": "stdout",
     "output_type": "stream",
     "text": [
      "<class 'dict'>\n",
      "11\n"
     ]
    }
   ],
   "source": [
    "#Solución.\n",
    "\n",
    "##Creación del diccionario futbolistas\n",
    "futbolistas = {\n",
    "    1: \"Giraldo\", 13: \"Guzman\",\n",
    "    17: \"Caicedo\", 3: \"Barón\",\n",
    "    4: \"López\", 6: \"Izquierdo\",\n",
    "    10: \"Serna\", 8: \"Reyes\",\n",
    "    9: \"Rodriguez\", 11: \"Caicedo\",\n",
    "    7: \"Robledo\"\n",
    "}\n",
    "print(type(futbolistas))\n",
    "\n",
    "##1\n",
    "print(len(futbolistas.keys()))"
   ]
  },
  {
   "cell_type": "code",
   "execution_count": 7,
   "id": "5224b664",
   "metadata": {},
   "outputs": [
    {
     "name": "stdout",
     "output_type": "stream",
     "text": [
      "{1: 'Natalia Giraldo', 13: 'Ana Guzman', 17: 'Kelly Caicedo', 3: 'Angela Barón', 4: 'Yunaira López', 6: 'Ilana Izquierdo', 10: 'Liced Serna', 8: 'Camila Reyes', 9: 'Gabriela Rodriguez', 11: 'Linda Caicedo', 7: 'Gisela Robledo'}\n"
     ]
    }
   ],
   "source": [
    "##2\n",
    "futbolistas.update({\n",
    "    1: \"Natalia Giraldo\", 13: \"Ana Guzman\",\n",
    "    17: \"Kelly Caicedo\", 3: \"Angela Barón\",\n",
    "    4: \"Yunaira López\", 6: \"Ilana Izquierdo\",\n",
    "    10: \"Liced Serna\", 8: \"Camila Reyes\",\n",
    "    9: \"Gabriela Rodriguez\", 11: \"Linda Caicedo\",\n",
    "    7: \"Gisela Robledo\"})\n",
    "\n",
    "print(futbolistas)"
   ]
  },
  {
   "cell_type": "code",
   "execution_count": 8,
   "id": "b2af1ea8",
   "metadata": {},
   "outputs": [
    {
     "name": "stdout",
     "output_type": "stream",
     "text": [
      "La goleadora del torneo fue Linda Caicedo\n"
     ]
    }
   ],
   "source": [
    "##3\n",
    "print('La goleadora del torneo fue',futbolistas[11])"
   ]
  },
  {
   "cell_type": "code",
   "execution_count": 9,
   "id": "28ea456c",
   "metadata": {},
   "outputs": [
    {
     "name": "stdout",
     "output_type": "stream",
     "text": [
      "Natalia Giraldo\n",
      "Ana Guzman\n",
      "Ilana Izquierdo\n",
      "Gabriela Rodriguez\n"
     ]
    }
   ],
   "source": [
    "##4\n",
    "edades=dict([(1,19),(13,17),(17,23),(3,22),(4,20),(6,18),(10,21),(8,21),(9,19),(11,22),(7,21)])\n",
    "\n",
    "NombreLista=[]\n",
    "for i in edades.keys():\n",
    "  if edades.get(i)<20:\n",
    "     NombreLista.append(i)\n",
    "\n",
    "for i in NombreLista:\n",
    "    print(futbolistas.get(i))"
   ]
  },
  {
   "cell_type": "markdown",
   "id": "5ae6643c-3056-4715-bcf5-b8b46efb3927",
   "metadata": {},
   "source": [
    "### Segundo ejercicio.\n",
    "Defina un diccionario de al menos 4 llaves de tal manera que esas llaves sean tuplas. Acceda a cada elemento. ¿Puede hacer lo mismo para una llave que sea definida como lista o diccionario? (Ejercicio tomado de las notas de clase.)"
   ]
  },
  {
   "cell_type": "code",
   "execution_count": 33,
   "id": "1a51cce1-27a8-4890-acee-ba38316a5442",
   "metadata": {},
   "outputs": [
    {
     "name": "stdout",
     "output_type": "stream",
     "text": [
      "[1964, 1965, 1966, 1967, 1968, 1969]\n",
      "['Ford', 'Chevrolet', 'Dodge']\n"
     ]
    }
   ],
   "source": [
    "#Solución.\n",
    "dictCars = {\n",
    "  ('Marca',1,\"a\"): [\"Ford\",\"Chevrolet\",\"Dodge\"],\n",
    "  ('Electrico',2): [False,True],\n",
    "  ('Año'): [1964,1965,1966,1967,1968,1969],\n",
    "  ('Colores',4,\"hola\"): [\"Rojo\", \"Gris\", \"Azul\"]\n",
    "}\n",
    "print(dictCars[('Año')])\n",
    "print(dictCars[('Marca',1,\"a\")])\n",
    "\n"
   ]
  },
  {
   "cell_type": "code",
   "execution_count": 34,
   "id": "eb938c7b-57d3-4e7d-a618-0495108ffbc9",
   "metadata": {},
   "outputs": [
    {
     "ename": "TypeError",
     "evalue": "unhashable type: 'list'",
     "output_type": "error",
     "traceback": [
      "\u001b[1;31m---------------------------------------------------------------------------\u001b[0m",
      "\u001b[1;31mTypeError\u001b[0m                                 Traceback (most recent call last)",
      "\u001b[1;32m<ipython-input-34-ef2c80b5fe56>\u001b[0m in \u001b[0;36m<module>\u001b[1;34m\u001b[0m\n\u001b[1;32m----> 1\u001b[1;33m \u001b[0mdictCars\u001b[0m\u001b[1;33m[\u001b[0m\u001b[1;33m[\u001b[0m\u001b[1;34m\"Moldelo\"\u001b[0m\u001b[1;33m]\u001b[0m\u001b[1;33m]\u001b[0m\u001b[1;33m=\u001b[0m\u001b[1;33m[\u001b[0m\u001b[1;34m\"Mustang\"\u001b[0m\u001b[1;33m,\u001b[0m\u001b[1;34m\"Camaro\"\u001b[0m\u001b[1;33m,\u001b[0m\u001b[1;34m\"Challenger\"\u001b[0m\u001b[1;33m]\u001b[0m\u001b[1;33m\u001b[0m\u001b[1;33m\u001b[0m\u001b[0m\n\u001b[0m",
      "\u001b[1;31mTypeError\u001b[0m: unhashable type: 'list'"
     ]
    }
   ],
   "source": [
    "dictCars[[\"Modelo\"]]=[\"Mustang\",\"Camaro\",\"Challenger\"]"
   ]
  },
  {
   "cell_type": "markdown",
   "id": "6bc24df8-f6cb-4b33-a9e9-70924990d5f5",
   "metadata": {},
   "source": [
    "Debido a que las listas son objetos \"unhashable\", no es posible definir listas como keys de un diccionario. "
   ]
  },
  {
   "cell_type": "code",
   "execution_count": 36,
   "id": "60a3862b-3556-4d84-b375-0f54b44c11f6",
   "metadata": {},
   "outputs": [
    {
     "ename": "TypeError",
     "evalue": "unhashable type: 'dict'",
     "output_type": "error",
     "traceback": [
      "\u001b[1;31m---------------------------------------------------------------------------\u001b[0m",
      "\u001b[1;31mTypeError\u001b[0m                                 Traceback (most recent call last)",
      "\u001b[1;32m<ipython-input-36-3d1b3f0778ad>\u001b[0m in \u001b[0;36m<module>\u001b[1;34m\u001b[0m\n\u001b[1;32m----> 1\u001b[1;33m \u001b[0mdictCars\u001b[0m\u001b[1;33m[\u001b[0m\u001b[1;33m{\u001b[0m\u001b[1;36m1\u001b[0m\u001b[1;33m:\u001b[0m\u001b[1;34m\"Modelos\"\u001b[0m\u001b[1;33m}\u001b[0m\u001b[1;33m]\u001b[0m\u001b[1;33m=\u001b[0m\u001b[1;33m[\u001b[0m\u001b[1;34m\"Mustang\"\u001b[0m\u001b[1;33m,\u001b[0m\u001b[1;34m\"Camaro\"\u001b[0m\u001b[1;33m,\u001b[0m\u001b[1;34m\"Challenger\"\u001b[0m\u001b[1;33m]\u001b[0m\u001b[1;33m\u001b[0m\u001b[1;33m\u001b[0m\u001b[0m\n\u001b[0m",
      "\u001b[1;31mTypeError\u001b[0m: unhashable type: 'dict'"
     ]
    }
   ],
   "source": [
    "dictCars[{1:\"Modelos\"}]=[\"Mustang\",\"Camaro\",\"Challenger\"]"
   ]
  },
  {
   "cell_type": "markdown",
   "id": "23d65e01-9f08-4bfc-8819-2c320db4a375",
   "metadata": {},
   "source": [
    "Debido a que los diccionarios son objetos \"unhashable\", no es posible definir diccionarios como keys de un diccionario. "
   ]
  },
  {
   "cell_type": "markdown",
   "id": "c103e9f3-a5c8-4e65-aa5a-34f3ededfd45",
   "metadata": {},
   "source": [
    "## Cuarto punto."
   ]
  },
  {
   "cell_type": "code",
   "execution_count": 21,
   "id": "3ee4e07f-43e7-4046-a53f-391a0a69147a",
   "metadata": {},
   "outputs": [],
   "source": [
    "import pandas as pd\n",
    "\n",
    "DatosBanco = pd.read_excel(\"Tarea 2.xlsx\",header=0)\n"
   ]
  },
  {
   "cell_type": "code",
   "execution_count": 22,
   "id": "c07d66d2-1c5d-4a91-9120-95d518cab5f6",
   "metadata": {},
   "outputs": [
    {
     "name": "stdout",
     "output_type": "stream",
     "text": [
      "   Num cuenta Nombre cliente  saldo actual Fecha Ultima transaccion\n",
      "0        3434           Juan          2162        18/09/19 01:55:19\n",
      "1        6758       Morticio          4327        22/10/19 02:53:05\n",
      "2        6642         Pepito          4098        13/09/19 08:45:20\n",
      "3        7917         Clavel          3442         27/12/19 9:54:21\n",
      "4        5487           Rosa          4615        13/12/19 01:55:22\n",
      "5        4043           Lola           372        26/05/19 01:55:23\n",
      "6        6680        Jacinto           224        14/06/19 01:55:24\n",
      "7        4054       Etelvina          2298        29/02/19 01:55:25\n",
      "8        2905         Andrés          3985        05/07/19 01:55:26\n",
      "9        9365        Ariadna          3072        07/04/19 01:55:27\n"
     ]
    }
   ],
   "source": [
    "print(DatosBanco)"
   ]
  },
  {
   "cell_type": "code",
   "execution_count": 23,
   "id": "d8d53ba1-dfdc-4d81-8c8a-43bf7b3566bb",
   "metadata": {},
   "outputs": [],
   "source": [
    "class Dbanco(object):\n",
    "    def __init__(self,decision):\n",
    "        self.val = 0\n",
    "        self.decision=decision\n",
    "    # Hace esta clase iterable\n",
    "    def __iter__(self):\n",
    "        return self\n",
    "    \n",
    "    # Hace esta clase un iterador\n",
    "    def __next__(self):\n",
    "        self.decision=input(\"¿Desea la siguiente cuenta?\")\n",
    "        if self.decision == \"si\":\n",
    "            return_val = DatosBanco.loc[self.val]\n",
    "            self.val += 1\n",
    "            #self.decision=input(\"¿Desea la siguiente cuenta?\")\n",
    "            return return_val\n",
    "        else:\n",
    "            print(\"Se ha terminado la búsqueda\")\n",
    "            raise StopIteration"
   ]
  },
  {
   "cell_type": "code",
   "execution_count": 26,
   "id": "c94eb1b1-cc14-4499-bb0a-22dc774eaf9c",
   "metadata": {},
   "outputs": [
    {
     "name": "stdout",
     "output_type": "stream",
     "text": [
      "Ingrese si para acceder a la primera cuenta del banco.\n",
      "¿Desea la siguiente cuenta?si\n",
      "Num cuenta                               3434\n",
      "Nombre cliente                           Juan\n",
      "saldo actual                             2162\n",
      "Fecha Ultima transaccion    18/09/19 01:55:19\n",
      "Name: 0, dtype: object\n",
      "¿Desea la siguiente cuenta?si\n",
      "Num cuenta                               6758\n",
      "Nombre cliente                       Morticio\n",
      "saldo actual                             4327\n",
      "Fecha Ultima transaccion    22/10/19 02:53:05\n",
      "Name: 1, dtype: object\n",
      "¿Desea la siguiente cuenta?no\n",
      "Se ha terminado la búsqueda\n"
     ]
    }
   ],
   "source": [
    "print(\"Ingrese si para acceder a la primera cuenta del banco.\")\n",
    "for i in Dbanco(\"si\"):\n",
    "    print(i,end='\\n')\n"
   ]
  },
  {
   "cell_type": "code",
   "execution_count": null,
   "id": "ac3a5432-e2ed-4398-a592-6a1ad91c5e22",
   "metadata": {},
   "outputs": [],
   "source": []
  }
 ],
 "metadata": {
  "kernelspec": {
   "display_name": "Python 3 (ipykernel)",
   "language": "python",
   "name": "python3"
  },
  "language_info": {
   "codemirror_mode": {
    "name": "ipython",
    "version": 3
   },
   "file_extension": ".py",
   "mimetype": "text/x-python",
   "name": "python",
   "nbconvert_exporter": "python",
   "pygments_lexer": "ipython3",
   "version": "3.8.13"
  }
 },
 "nbformat": 4,
 "nbformat_minor": 5
}
